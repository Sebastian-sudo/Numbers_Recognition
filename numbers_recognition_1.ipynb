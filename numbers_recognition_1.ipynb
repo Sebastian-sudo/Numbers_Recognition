{
 "cells": [
  {
   "cell_type": "code",
   "execution_count": 117,
   "metadata": {},
   "outputs": [],
   "source": [
    "from sklearn.datasets import load_digits\n",
    "from sklearn.model_selection import train_test_split\n",
    "from sklearn.neural_network import MLPClassifier\n",
    "from matplotlib import pyplot as plt \n",
    "import pandas as pd\n",
    "import numpy as np\n",
    "from random import randint\n",
    "import joblib"
   ]
  },
  {
   "cell_type": "code",
   "execution_count": 102,
   "metadata": {},
   "outputs": [
    {
     "name": "stdout",
     "output_type": "stream",
     "text": [
      "       a00  a01  a02  a03  a04  a05  a06  a07  a08  a09  ...  a774  a775  \\\n",
      "0        0    0    0    0    0    0    0    0    0    0  ...   0.0   0.0   \n",
      "1        0    0    0    0    0    0    0    0    0    0  ...   0.0   0.0   \n",
      "2        0    0    0    0    0    0    0    0    0    0  ...   0.0   0.0   \n",
      "3        0    0    0    0    0    0    0    0    0    0  ...   0.0   0.0   \n",
      "4        0    0    0    0    0    0    0    0    0    0  ...   0.0   0.0   \n",
      "...    ...  ...  ...  ...  ...  ...  ...  ...  ...  ...  ...   ...   ...   \n",
      "61995    0    0    0    0    0    0    0    0    0    0  ...   0.0   0.0   \n",
      "61996    0    0    0    0    0    0    0    0    0    0  ...   0.0   0.0   \n",
      "61997    0    0    0    0    0    0    0    0    0    0  ...   0.0   0.0   \n",
      "61998    0    0    0    0    0    0    0    0    0    0  ...   0.0   0.0   \n",
      "61999    0    0    0    0    0    0    0    0    0    0  ...   0.0   0.0   \n",
      "\n",
      "       a776  a777  a778  a779  a780  a781  a782  a783  \n",
      "0       0.0   0.0   0.0   0.0     0     0     0     0  \n",
      "1       0.0   0.0   0.0   0.0     0     0     0     0  \n",
      "2       0.0   0.0   0.0   0.0     0     0     0     0  \n",
      "3       0.0   0.0   0.0   0.0     0     0     0     0  \n",
      "4       0.0   0.0   0.0   0.0     0     0     0     0  \n",
      "...     ...   ...   ...   ...   ...   ...   ...   ...  \n",
      "61995   0.0   0.0   0.0   0.0     0     0     0     0  \n",
      "61996   0.0   0.0   0.0   0.0     0     0     0     0  \n",
      "61997   0.0   0.0   0.0   0.0     0     0     0     0  \n",
      "61998   0.0   0.0   0.0   0.0     0     0     0     0  \n",
      "61999   0.0   0.0   0.0   0.0     0     0     0     0  \n",
      "\n",
      "[62000 rows x 784 columns]\n"
     ]
    }
   ],
   "source": [
    "columns = []\n",
    "for i in range(783):\n",
    "    if i < 10:\n",
    "        columns.append(\"a0\" + str(i) )\n",
    "    else:\n",
    "        columns.append(\"a\" + str(i))\n",
    "#print(columns[:10])\n",
    "df = pd.read_csv(\"mnist.csv\")\n",
    "y = df[\"class\"]\n",
    "X = df\n",
    "X.drop(\"class\", axis=1, inplace=True)\n",
    "print(X)"
   ]
  },
  {
   "cell_type": "code",
   "execution_count": 115,
   "metadata": {},
   "outputs": [
    {
     "data": {
      "image/png": "[encoded data removed]",
      "text/plain": [
       "<Figure size 288x288 with 1 Axes>"
      ]
     },
     "metadata": {
      "needs_background": "light"
     },
     "output_type": "display_data"
    }
   ],
   "source": [
    "X = np.array(X)\n",
    "plt.matshow(X[randint(0, 62000)].reshape(28, 28))\n",
    "plt.show()"
   ]
  },
  {
   "cell_type": "code",
   "execution_count": 113,
   "metadata": {},
   "outputs": [],
   "source": [
    "X_train, X_test, y_train, y_test = train_test_split(X, y, random_state=randint(10, 40), test_size=0.3)"
   ]
  },
  {
   "cell_type": "code",
   "execution_count": 114,
   "metadata": {},
   "outputs": [
    {
     "name": "stdout",
     "output_type": "stream",
     "text": [
      "MLPClassifier(activation='relu', alpha=0.0001, batch_size='auto', beta_1=0.9,\n",
      "              beta_2=0.999, early_stopping=False, epsilon=1e-08,\n",
      "              hidden_layer_sizes=(100,), learning_rate='constant',\n",
      "              learning_rate_init=0.001, max_fun=15000, max_iter=200,\n",
      "              momentum=0.9, n_iter_no_change=10, nesterovs_momentum=True,\n",
      "              power_t=0.5, random_state=None, shuffle=True, solver='adam',\n",
      "              tol=0.0001, validation_fraction=0.1, verbose=False,\n",
      "              warm_start=False)\n"
     ]
    }
   ],
   "source": [
    "model = MLPClassifier()\n",
    "model.fit(X_train, y_train)\n",
    "print(model)"
   ]
  },
  {
   "cell_type": "code",
   "execution_count": 116,
   "metadata": {},
   "outputs": [
    {
     "name": "stdout",
     "output_type": "stream",
     "text": [
      "0.975268817204301\n"
     ]
    }
   ],
   "source": [
    "print(model.score(X_test, y_test))"
   ]
  },
  {
   "cell_type": "raw",
   "metadata": {},
   "source": [
    "evaluate"
   ]
  },
  {
   "cell_type": "raw",
   "metadata": {},
   "source": [
    "save"
   ]
  },
  {
   "cell_type": "code",
   "execution_count": 119,
   "metadata": {},
   "outputs": [
    {
     "data": {
      "text/plain": [
       "['hand_written_digits_recognition.joblib']"
      ]
     },
     "execution_count": 119,
     "metadata": {},
     "output_type": "execute_result"
    }
   ],
   "source": [
    "joblib.dump(model, \"hand_written_digits_recognition.joblib\")"
   ]
  },
  {
   "cell_type": "code",
   "execution_count": null,
   "metadata": {},
   "outputs": [],
   "source": []
  }
 ],
 "metadata": {
  "kernelspec": {
   "display_name": "Python 3",
   "language": "python",
   "name": "python3"
  },
  "language_info": {
   "codemirror_mode": {
    "name": "ipython",
    "version": 3
   },
   "file_extension": ".py",
   "mimetype": "text/x-python",
   "name": "python",
   "nbconvert_exporter": "python",
   "pygments_lexer": "ipython3",
   "version": "3.8.5"
  }
 },
 "nbformat": 4,
 "nbformat_minor": 4
}
